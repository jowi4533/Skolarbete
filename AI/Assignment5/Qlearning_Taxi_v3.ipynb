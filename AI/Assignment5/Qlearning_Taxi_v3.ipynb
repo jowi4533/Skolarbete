{
 "cells": [
  {
   "cell_type": "code",
   "execution_count": null,
   "metadata": {},
   "outputs": [],
   "source": [
    "\"\"\"---Qlearning task(Taxi-v3) in gym environment solved by Jonas Wikström---\"\"\""
   ]
  },
  {
   "cell_type": "code",
   "execution_count": 84,
   "metadata": {},
   "outputs": [],
   "source": [
    "#imports\n",
    "import gym\n",
    "import numpy as np\n",
    "import random as random\n",
    "import pandas as pd"
   ]
  },
  {
   "cell_type": "code",
   "execution_count": 39,
   "metadata": {},
   "outputs": [
    {
     "name": "stdout",
     "output_type": "stream",
     "text": [
      "+---------+\n",
      "|\u001b[34;1mR\u001b[0m:\u001b[43m \u001b[0m| : :\u001b[35mG\u001b[0m|\n",
      "| : | : : |\n",
      "| : : : : |\n",
      "| | : | : |\n",
      "|Y| : |B: |\n",
      "+---------+\n",
      "\n"
     ]
    }
   ],
   "source": [
    "\"\"\"Gym is a toolkit for developing and comparing reinforcement learning algorithms. \n",
    "Here is some prints to illustrate the environment. From: https://gym.openai.com/envs/Taxi-v3/ \"\"\"\n",
    "\n",
    "env = gym.make(\"Taxi-v3\").env\n",
    "env.reset() # reset environment to a new, random state\n",
    "env.render()"
   ]
  },
  {
   "cell_type": "code",
   "execution_count": 98,
   "metadata": {},
   "outputs": [],
   "source": [
    "\"\"\"Instantiates  stuff\"\"\"\n",
    "q_table = np.zeros([env.observation_space.n, env.action_space.n])\n",
    "\n",
    "alpha = 0.1    # Learning rate\n",
    "gamma = 0.6    # Discount rate\n",
    "epsilon = 0.1  # Exploration rate\n",
    "\n",
    "episodes = 1000000 #  Number of episodes we train the\n",
    "max_iterations = 100 # Max number of steps in each episode"
   ]
  },
  {
   "cell_type": "code",
   "execution_count": 100,
   "metadata": {},
   "outputs": [
    {
     "name": "stdout",
     "output_type": "stream",
     "text": [
      "at iteration: 0\n",
      "at iteration: 50000\n",
      "at iteration: 100000\n",
      "at iteration: 150000\n",
      "at iteration: 200000\n",
      "at iteration: 250000\n",
      "at iteration: 300000\n",
      "at iteration: 350000\n",
      "at iteration: 400000\n",
      "at iteration: 450000\n",
      "at iteration: 500000\n",
      "at iteration: 550000\n",
      "at iteration: 600000\n",
      "at iteration: 650000\n",
      "at iteration: 700000\n",
      "at iteration: 750000\n",
      "at iteration: 800000\n",
      "at iteration: 850000\n",
      "at iteration: 900000\n",
      "at iteration: 950000\n"
     ]
    }
   ],
   "source": [
    "\"\"\"Trains the q matrix \"\"\"\n",
    "reward_list = []\n",
    "for i in range(episodes):\n",
    "    if (i%50000 ==0):\n",
    "        print(\"at iteration:\", i)\n",
    "    state = env.reset()\n",
    "    done = False\n",
    "    total_reward = 0\n",
    "    \n",
    "    for i in range(max_iterations):\n",
    "        rand_nr = random.uniform(0,1)\n",
    "        if (epsilon > rand_nr): #we explore \n",
    "            action = env.action_space.sample()\n",
    "        else:\n",
    "            action = np.argmax(q_table[state,:]) # index of bigges Q value\n",
    " \n",
    "        new_state, reward, done, info = env.step(action) \n",
    "        # The Update of the Q matrix# Q(state,action)←(1−α)⋅Q(state,action)+α⋅(reward+γ⋅max∀aQ(next state,a))\n",
    "        q_table[state,action] = (1-alpha)*q_table[state,action] + alpha*(reward+gamma*np.max(q_table[new_state,:]))\n",
    "        state = new_state\n",
    "        total_reward = total_reward + reward\n",
    "        if done == True:\n",
    "            reward_list.append(total_reward)\n",
    "            break"
   ]
  },
  {
   "cell_type": "code",
   "execution_count": 101,
   "metadata": {},
   "outputs": [
    {
     "name": "stdout",
     "output_type": "stream",
     "text": [
      "3000\n",
      "3000\n"
     ]
    }
   ],
   "source": [
    "\"\"\"# Flattens the Q matrix and saves it as a csv file with columns 'Id' and 'Value'\"\"\"\n",
    "flatten_q = q_table.ravel()\n",
    "index_list = range(1,3001)\n",
    "q_df = pd.DataFrame(list(zip(index_list,flatten_q)), \n",
    "               columns =['Id', 'Value'])\n",
    "q_df.to_csv('samplesubmission.csv', index=False)"
   ]
  }
 ],
 "metadata": {
  "kernelspec": {
   "display_name": "Python 3",
   "language": "python",
   "name": "python3"
  },
  "language_info": {
   "codemirror_mode": {
    "name": "ipython",
    "version": 3
   },
   "file_extension": ".py",
   "mimetype": "text/x-python",
   "name": "python",
   "nbconvert_exporter": "python",
   "pygments_lexer": "ipython3",
   "version": "3.7.6"
  }
 },
 "nbformat": 4,
 "nbformat_minor": 4
}
