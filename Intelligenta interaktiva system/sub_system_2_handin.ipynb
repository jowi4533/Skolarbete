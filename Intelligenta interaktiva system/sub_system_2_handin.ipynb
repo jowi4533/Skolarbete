{
 "cells": [
  {
   "cell_type": "code",
   "execution_count": 1,
   "metadata": {},
   "outputs": [],
   "source": [
    "\"\"\"Given a set of cordinates of landmarks we can predict which hand gesture that is shown in \n",
    "the image using support vector machine model\n",
    "\n",
    "Done by Jonas Wikström \"\"\""
   ]
  },
  {
   "cell_type": "code",
   "execution_count": null,
   "metadata": {},
   "outputs": [],
   "source": [
    "#imports \n",
    "import pandas as pd\n",
    "import numpy as np\n",
    "import sklearn as sk\n",
    "import random\n",
    "from pandas import ExcelWriter\n",
    "from pandas import ExcelFile\n",
    "from sklearn import svm\n",
    "from sklearn.metrics import classification_report\n",
    "from sklearn.model_selection import KFold"
   ]
  },
  {
   "cell_type": "markdown",
   "metadata": {},
   "source": [
    "# Since we didnt get the coordinates from we can just show how we train and validate our model"
   ]
  },
  {
   "cell_type": "code",
   "execution_count": 5,
   "metadata": {},
   "outputs": [],
   "source": [
    "\"\"\"We load all data\"\"\"\n",
    "\n",
    "\n",
    "#Drop duplicates, shuffle\n",
    "\n",
    "url = 'Dataset_Subsystem_2.csv';\n",
    "df = pd.read_csv(url, na_values='?').dropna();\n",
    "df = df.drop_duplicates(keep='first', inplace=False).reset_index(drop=True)\n",
    "df = df.sample(frac=1).reset_index(drop=True)\n",
    "\n",
    "X = df[['palm_root_x','palm_root_y','palm_thumb_1_x','palm_thumb_1_y','palm_thumb_2_x','palm_thumb_2_y',\n",
    "           'palm_thumb_3_x','palm_thumb_3_y','palm_index_1_x','palm_index_1_y','palm_index_2_x','palm_index_2_y',\n",
    "           'palm_index_3_x','palm_index_3_y','palm_index_4_x','palm_index_4_y','palm_middle_1_x','palm_middle_1_y',\n",
    "           'palm_middle_2_x','palm_middle_2_y','palm_middle_3_x','palm_middle_3_y','palm_middle_4_x','palm_middle_4_y',\n",
    "           'palm_ring_1_x','palm_ring_1_y','palm_ring_2_x','palm_ring_2_y','palm_ring_3_x','palm_ring_3_y','palm_ring_4_x',\n",
    "           'palm_ring_4_y','palm_pinky_1_x','palm_pinky_1_y','palm_pinky_2_x','palm_pinky_2_y','palm_pinky_3_x','palm_pinky_3_y',\n",
    "           'palm_pinky_4_x','palm_pinky_4_y','dorsal_root_x','dorsal_root_y','dorsal_thumb_1_x','dorsal_thumb_1_y','dorsal_thumb_2_x',\n",
    "           'dorsal_thumb_2_y','dorsal_thumb_3_x','dorsal_thumb_3_y','dorsal_index_1_x','dorsal_index_1_y','dorsal_index_2_x','dorsal_index_2_y',\n",
    "           'dorsal_index_3_x','dorsal_index_3_y','dorsal_index_4_x','dorsal_index_4_y','dorsal_middle_1_x','dorsal_middle_1_y','dorsal_middle_2_x',\n",
    "           'dorsal_middle_2_y','dorsal_middle_3_x','dorsal_middle_3_y','dorsal_middle_4_x','dorsal_middle_4_y','dorsal_ring_1_x','dorsal_ring_1_y',\n",
    "           'dorsal_ring_2_x','dorsal_ring_2_y','dorsal_ring_3_x','dorsal_ring_3_y','dorsal_ring_4_x','dorsal_ring_4_y','dorsal_pinky_1_x','dorsal_pinky_1_y',\n",
    "           'dorsal_pinky_2_x','dorsal_pinky_2_y','dorsal_pinky_3_x','dorsal_pinky_3_y','dorsal_pinky_4_x','dorsal_pinky_4_y']];\n",
    "\n",
    "#creates a class/label (the gesture)\n",
    "df['label'] = df.apply(lambda row: row.camera_facing_side + row.gesture, axis = 1)\n",
    "y = df[\"label\"]\n"
   ]
  },
  {
   "cell_type": "code",
   "execution_count": 6,
   "metadata": {},
   "outputs": [],
   "source": [
    "\"\"\"This function fits the model to the dataset and calculates the score.\"\"\"\n",
    "\n",
    "def getScore_new(Xtrain,ytrain,Xtest,ytest):\n",
    "    model = svm.SVC(kernel='linear') # Linear Kernel\n",
    "    #Train the model using the training sets\n",
    "    model.fit(Xtrain, ytrain)\n",
    "    #Predict the response for test dataset\n",
    "    return model.score(Xtest,ytest)"
   ]
  },
  {
   "cell_type": "code",
   "execution_count": 7,
   "metadata": {},
   "outputs": [
    {
     "name": "stdout",
     "output_type": "stream",
     "text": [
      "Mean accuracy for the model is:  1.0\n"
     ]
    }
   ],
   "source": [
    "\"\"\"We validate the model with 10fold cross validation\"\"\"\n",
    "kf = KFold(n_splits = 10) \n",
    "kf.get_n_splits(X)\n",
    "K_score = [];\n",
    "for train_index, test_index in kf.split(X):\n",
    "        Xtrain, Xtest = X.loc[train_index], X.loc[test_index]\n",
    "        ytrain, ytest = y.loc[train_index], y.loc[test_index]\n",
    "        K_score.append(getScore_new(Xtrain,ytrain,Xtest,ytest))\n",
    "        \n",
    "print(\"Mean accuracy for the model is: \",np.mean(K_score))\n",
    "        "
   ]
  },
  {
   "cell_type": "code",
   "execution_count": null,
   "metadata": {},
   "outputs": [],
   "source": []
  }
 ],
 "metadata": {
  "kernelspec": {
   "display_name": "Python 3",
   "language": "python",
   "name": "python3"
  },
  "language_info": {
   "codemirror_mode": {
    "name": "ipython",
    "version": 3
   },
   "file_extension": ".py",
   "mimetype": "text/x-python",
   "name": "python",
   "nbconvert_exporter": "python",
   "pygments_lexer": "ipython3",
   "version": "3.7.6"
  }
 },
 "nbformat": 4,
 "nbformat_minor": 4
}
