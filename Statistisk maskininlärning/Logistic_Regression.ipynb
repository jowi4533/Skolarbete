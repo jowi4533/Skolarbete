{
 "cells": [
  {
   "cell_type": "code",
   "execution_count": 1,
   "metadata": {},
   "outputs": [
    {
     "data": {
      "text/plain": [
       "'Miniproject in Statistical Machine Learning course.\\nThe project is to predict which songs, out of a data set of 200 songs, \\na teacher in the course will like. The training data consists of 750 songs,\\nwhich the teacher already has labeled with like or dislike.\\nThe data consists not of the sound files themselves, but of song features extracted from them.\\n\\n\\nSong Features: {\"acousticness\",\"danceability\",\"duration\",\"energy\",\"instrumentalness\",\\n\"key\",\"liveness\",\"loudness\",\"mode\",\"speechiness\",\"tempo\",\"time_signature\",\"valence\"}\\n'"
      ]
     },
     "execution_count": 1,
     "metadata": {},
     "output_type": "execute_result"
    }
   ],
   "source": [
    "\"\"\"Miniproject in Statistical Machine Learning course.\n",
    "The project is to predict which songs, out of a data set of 200 songs, \n",
    "a teacher in the course will like. The training data consists of 750 songs,\n",
    "which the teacher already has labeled with like or dislike.\n",
    "The data consists not of the sound files themselves, but of song features extracted from them.\n",
    "\n",
    "Made by Jonas Wikström\n",
    "\n",
    "Song Features: {\"acousticness\",\"danceability\",\"duration\",\"energy\",\"instrumentalness\",\n",
    "\"key\",\"liveness\",\"loudness\",\"mode\",\"speechiness\",\"tempo\",\"time_signature\",\"valence\"}\n",
    "\"\"\""
   ]
  },
  {
   "cell_type": "code",
   "execution_count": 2,
   "metadata": {},
   "outputs": [],
   "source": [
    "#imports\n",
    "import numpy as np\n",
    "import pandas as pd\n",
    "import sklearn.linear_model as skl_lm\n",
    "from sklearn.linear_model import LogisticRegression\n",
    "from sklearn.linear_model import LinearRegression\n",
    "import matplotlib.pyplot as plt\n",
    "from sklearn.preprocessing import StandardScaler\n",
    "from sklearn.preprocessing import MinMaxScaler\n",
    "from sklearn.preprocessing import PowerTransformer\n",
    "from sklearn.preprocessing import MaxAbsScaler\n",
    "from sklearn.preprocessing import RobustScaler\n",
    "from sklearn.metrics import classification_report, confusion_matrix\n",
    "from sklearn.feature_selection import RFE\n",
    "from sklearn.model_selection import KFold"
   ]
  },
  {
   "cell_type": "code",
   "execution_count": 7,
   "metadata": {},
   "outputs": [
    {
     "data": {
      "text/plain": [
       "10"
      ]
     },
     "execution_count": 7,
     "metadata": {},
     "output_type": "execute_result"
    }
   ],
   "source": [
    "\"\"\"instantiates stuff \"\"\"\n",
    "#scalers\n",
    "scaler = StandardScaler()\n",
    "scaler_minmax = MinMaxScaler()\n",
    "scaler_power = PowerTransformer()\n",
    "scaler_maxabs = MaxAbsScaler()\n",
    "scaler_robust = RobustScaler()\n",
    "scaler_list = [scaler,scaler_minmax,scaler_power,scaler_maxabs,scaler_robust]\n",
    "model = LinearRegression()\n",
    "#Initializing RFE model\n",
    "rfe = RFE(model, 5)   \n",
    "kf = KFold(n_splits = 10)\n",
    "kf.get_n_splits(X)"
   ]
  },
  {
   "cell_type": "code",
   "execution_count": 8,
   "metadata": {},
   "outputs": [],
   "source": [
    "\"\"\"Loading data\"\"\"\n",
    "\n",
    "url = 'http://www.it.uu.se/edu/course/homepage/sml/project/training_data.csv';\n",
    "songs = pd.read_csv(url, na_values='?').dropna();\n",
    "songs.drop_duplicates(keep='first', inplace=False)\n",
    "\n",
    "url_test = 'http://www.it.uu.se/edu/course/homepage/sml/project/songs_to_classify.csv'\n",
    "songs_to_test = pd.read_csv(url_test, na_values='?').dropna();\n",
    "\n",
    "X = songs[[\"acousticness\",\"danceability\",\"duration\",\"energy\",\"instrumentalness\",\"key\",\"liveness\",\"loudness\",\"mode\",\"speechiness\",\"tempo\",\"time_signature\",\"valence\"]];\n",
    "y = songs[\"label\"];"
   ]
  },
  {
   "cell_type": "code",
   "execution_count": 9,
   "metadata": {},
   "outputs": [],
   "source": [
    "\"\"\"Functions for validating score and scaling data\"\"\"\n",
    "def getScore(Xtrain,ytrain,Xtest,ytest):\n",
    "    model = LogisticRegression(solver='lbfgs')\n",
    "    model.fit(Xtrain,ytrain)\n",
    "    return model.score(Xtest,ytest)\n",
    "\n",
    "def TestStandardization(model_input,Xtrain,Xtest):\n",
    "    model = model_input\n",
    "    model.fit(Xtrain)\n",
    "    Xtrain = model.transform(Xtrain)\n",
    "    Xtest = model.transform(Xtest)\n",
    "    return Xtrain,Xtest\n"
   ]
  },
  {
   "cell_type": "code",
   "execution_count": 10,
   "metadata": {},
   "outputs": [
    {
     "name": "stdout",
     "output_type": "stream",
     "text": [
      "[0.8666666666666667, 0.8666666666666667, 0.88, 0.8533333333333334, 0.8666666666666667]\n"
     ]
    },
    {
     "data": {
      "image/png": "[encoded data removed]",
      "text/plain": [
       "<Figure size 864x432 with 1 Axes>"
      ]
     },
     "metadata": {
      "needs_background": "light"
     },
     "output_type": "display_data"
    }
   ],
   "source": [
    "\"\"\"Validation function - plots the average score for 10fold cross validation with 5 different scalers\"\"\"\n",
    "\n",
    "scores = []\n",
    "average_score = []\n",
    "scaler_score = []\n",
    "\n",
    "fold_score_arr = []\n",
    "for i in scaler_list:\n",
    "    fold_score = 0;\n",
    "    for train_index, test_index in kf.split(X):\n",
    "        Xtrain, Xtest = X.loc[train_index], X.loc[test_index]\n",
    "        ytrain, ytest = y.loc[train_index], y.loc[test_index]\n",
    "        Xtrain, Xtest = TestStandardization(i,Xtrain,Xtest)\n",
    "        Xtrain = rfe.fit_transform(Xtrain,ytrain)\n",
    "        Xtest = rfe.transform(Xtest)\n",
    "        if getScore(Xtrain,ytrain,Xtest,ytest) > fold_score:\n",
    "            fold_score = getScore(Xtrain,ytrain,Xtest,ytest);\n",
    "        scores.append(getScore(Xtrain,ytrain,Xtest,ytest))\n",
    "    fold_score_arr.append(fold_score)    \n",
    "    average_score = np.mean(scores)\n",
    "    scaler_score.append(average_score)\n",
    "\n",
    "plt.figure(figsize=(12, 6))\n",
    "plt.plot(range(1, 6), scaler_score, color='red', linestyle='dashed', marker='o',markerfacecolor='blue', markersize=10)\n",
    "plt.title('score for scaler')\n",
    "plt.xlabel('scaler nr')\n",
    "plt.ylabel('score')\n",
    "\n",
    "print(fold_score_arr)"
   ]
  },
  {
   "cell_type": "code",
   "execution_count": 13,
   "metadata": {},
   "outputs": [
    {
     "data": {
      "text/plain": [
       "'00010111101001101111101100111111011111010101010110011101100011001111101111110110110101111010011011111111110111110111101101111111101011111111100011111011001111101101101111111000111011101110100111100111'"
      ]
     },
     "execution_count": 13,
     "metadata": {},
     "output_type": "execute_result"
    }
   ],
   "source": [
    "\"\"\"Function for making predictions\"\"\"\n",
    "\n",
    "def make_predictions(scaler):\n",
    "    Xtest = songs_to_test[[\"acousticness\",\"danceability\",\"duration\",\"energy\",\"instrumentalness\",\"key\",\"liveness\",\"loudness\",\"mode\",\"speechiness\",\"tempo\",\"time_signature\",\"valence\"]];\n",
    "    Xtest = scaler.transform(Xtest)\n",
    "    Xtest = rfe.transform(Xtest)\n",
    "    \n",
    "    scaler.fit(X)\n",
    "    Xtrain = scaler.transform(X)\n",
    "    Xtrain = rfe.fit_transform(X,y)\n",
    "    model = LogisticRegression(solver='lbfgs')\n",
    "    model.fit(Xtrain,y)\n",
    "    ypred = model.predict(Xtest);\n",
    "    result = ypred;\n",
    "    result2 = ''.join(str(i) for i in result)\n",
    "    return(result2)\n",
    "\n",
    "make_predictions(scaler)"
   ]
  },
  {
   "cell_type": "code",
   "execution_count": null,
   "metadata": {},
   "outputs": [],
   "source": []
  }
 ],
 "metadata": {
  "kernelspec": {
   "display_name": "Python 3",
   "language": "python",
   "name": "python3"
  },
  "language_info": {
   "codemirror_mode": {
    "name": "ipython",
    "version": 3
   },
   "file_extension": ".py",
   "mimetype": "text/x-python",
   "name": "python",
   "nbconvert_exporter": "python",
   "pygments_lexer": "ipython3",
   "version": "3.7.6"
  }
 },
 "nbformat": 4,
 "nbformat_minor": 2
}
