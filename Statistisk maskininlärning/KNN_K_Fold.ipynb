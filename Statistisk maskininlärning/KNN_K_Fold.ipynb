{
 "cells": [
  {
   "cell_type": "code",
   "execution_count": 1,
   "metadata": {},
   "outputs": [],
   "source": [
    "\"\"\"Miniproject in Statistical Machine Learning course.\n",
    "The project is to predict which songs, out of a data set of 200 songs, \n",
    "a teacher in the course will like. The training data consists of 750 songs,\n",
    "which the teacher already has labeled with like or dislike.\n",
    "The data consists not of the sound files themselves, but of song features extracted from them.\n",
    "\n",
    "\n",
    "Song Features: {\"acousticness\",\"danceability\",\"duration\",\"energy\",\"instrumentalness\",\n",
    "\"key\",\"liveness\",\"loudness\",\"mode\",\"speechiness\",\"tempo\",\"time_signature\",\"valence\"}\n",
    "\"\"\"\n",
    "#Imports \n",
    "import numpy as np\n",
    "import pandas as pd\n",
    "import matplotlib.pyplot as plt\n",
    "import sklearn.linear_model as skl_lm\n",
    "#Classifiers\n",
    "from sklearn.linear_model import LogisticRegression #kanske ta bort\n",
    "from sklearn.linear_model import LinearRegression\n",
    "from sklearn.neighbors import KNeighborsClassifier\n",
    "#Scalers\n",
    "from sklearn.preprocessing import StandardScaler\n",
    "from sklearn.preprocessing import MinMaxScaler\n",
    "from sklearn.preprocessing import PowerTransformer\n",
    "from sklearn.preprocessing import MaxAbsScaler\n",
    "from sklearn.preprocessing import RobustScaler\n",
    "\n",
    "from sklearn.metrics import classification_report, confusion_matrix\n",
    "from sklearn.feature_selection import RFE\n",
    "\n",
    "scaler = StandardScaler()\n",
    "scaler_minmax = MinMaxScaler()\n",
    "scaler_power = PowerTransformer()\n",
    "scaler_maxabs = MaxAbsScaler()\n",
    "scaler_robust = RobustScaler()\n",
    "\n",
    "from sklearn.model_selection import KFold\n"
   ]
  },
  {
   "cell_type": "code",
   "execution_count": 5,
   "metadata": {},
   "outputs": [
    {
     "data": {
      "text/plain": [
       "10"
      ]
     },
     "execution_count": 5,
     "metadata": {},
     "output_type": "execute_result"
    }
   ],
   "source": [
    "\"\"\"Loads the training and testing data\"\"\"\n",
    "\n",
    "#Initializing RFE model (Recursive feature elimination)\n",
    "model = LinearRegression()\n",
    "rfe = RFE(model, 6)   \n",
    "#Test rfe 5 k = 9 gave best result\n",
    "\n",
    "url = 'http://www.it.uu.se/edu/course/homepage/sml/project/training_data.csv';\n",
    "songs = pd.read_csv(url, na_values='?').dropna();\n",
    "songs = songs.drop_duplicates(keep='first', inplace=False).reset_index(drop=True)\n",
    "\n",
    "url_test = 'http://www.it.uu.se/edu/course/homepage/sml/project/songs_to_classify.csv'\n",
    "songs_to_test = pd.read_csv(url_test, na_values='?').dropna();\n",
    "X = songs[[\"acousticness\",\"danceability\",\"duration\",\"energy\",\"instrumentalness\",\"key\",\"liveness\",\"loudness\",\"mode\",\"speechiness\",\"tempo\",\"time_signature\",\"valence\"]];\n",
    "y = songs[\"label\"];\n",
    "kf = KFold(n_splits = 10) \n",
    "kf.get_n_splits(X)"
   ]
  },
  {
   "cell_type": "code",
   "execution_count": 10,
   "metadata": {},
   "outputs": [
    {
     "name": "stdout",
     "output_type": "stream",
     "text": [
      "counter 1:  443\n",
      "counter 0:  293\n",
      "0.6019021739130435\n"
     ]
    }
   ],
   "source": [
    "\"\"\" Checking how unbalanced the data is \"\"\"\n",
    "counter_1 = 0\n",
    "counter_0 = 0\n",
    "for i in y:\n",
    "    if i == 1:\n",
    "        counter_1 = counter_1 +1  \n",
    "    if i == 0:\n",
    "        counter_0 = counter_0 +1\n",
    "        \n",
    "print(\"counter 1: \",counter_1)\n",
    "print(\"counter 0: \",counter_0)\n",
    "print(counter_1/(counter_1+counter_0))"
   ]
  },
  {
   "cell_type": "code",
   "execution_count": 3,
   "metadata": {},
   "outputs": [],
   "source": [
    "\n",
    "\"\"\"Functions used for validating score and scaling data\"\"\"\n",
    "\n",
    "def getScore(k,Xtrain,ytrain,Xtest,ytest):\n",
    "    model = KNeighborsClassifier(n_neighbors=k)\n",
    "    model.fit(Xtrain,ytrain)\n",
    "    return model.score(Xtest,ytest)\n",
    "\n",
    "def TestScaler(model_input,Xtrain,Xtest):\n",
    "    model = model_input\n",
    "    model.fit(Xtrain)\n",
    "    Xtrain = model.transform(Xtrain)\n",
    "    Xtest = model.transform(Xtest)\n",
    "    return Xtrain,Xtest"
   ]
  },
  {
   "cell_type": "code",
   "execution_count": 4,
   "metadata": {},
   "outputs": [
    {
     "data": {
      "text/plain": [
       "Text(0, 0.5, 'score')"
      ]
     },
     "execution_count": 4,
     "metadata": {},
     "output_type": "execute_result"
    },
    {
     "data": {
      "image/png": "[encoded data removed]",
      "text/plain": [
       "<Figure size 864x432 with 1 Axes>"
      ]
     },
     "metadata": {
      "needs_background": "light"
     },
     "output_type": "display_data"
    }
   ],
   "source": [
    "K_score = [];\n",
    "\n",
    "\"\"\"\n",
    "This is the validation algorithm, 10fold cross validation\n",
    "plots the score for 40 different k-values\n",
    "change number of dimensions and/or normalization algorithm for better results\n",
    "Change Testscaler() input param 1 to another scaler \"\"\"\n",
    "\n",
    "for i in range(1, 41):\n",
    "    scores = [];\n",
    "    average_score = [];\n",
    "    for train_index, test_index in kf.split(X):\n",
    "        Xtrain, Xtest = X.loc[train_index], X.loc[test_index]\n",
    "        ytrain, ytest = y.loc[train_index], y.loc[test_index]\n",
    "        Xtrain, Xtest = TestScaler(scaler_power,Xtrain,Xtest)\n",
    "        Xtrain = rfe.fit_transform(Xtrain,ytrain)\n",
    "        Xtest = rfe.transform(Xtest)\n",
    "        scores.append(getScore(i,Xtrain,ytrain,Xtest,ytest))\n",
    "        \n",
    "    average_score = np.mean(scores)\n",
    "    K_score.append(average_score)\n",
    "    \n",
    "\"\"\"Plots the accuracy/score of the classification with different K-values \"\"\"\n",
    "plt.figure(figsize=(12, 6))\n",
    "plt.plot(range(1, 41), K_score, color='red', linestyle='dashed', marker='o',markerfacecolor='blue', markersize=10)\n",
    "plt.title('score for K')\n",
    "plt.xlabel('K Value')\n",
    "plt.ylabel('score')"
   ]
  },
  {
   "cell_type": "code",
   "execution_count": 9,
   "metadata": {},
   "outputs": [
    {
     "name": "stdout",
     "output_type": "stream",
     "text": [
      "00010111001101101011001100000011011111010101010110001101100011000111101011110110110101110000001011110111010111100111100001111100101011111100100011011010001111100100101100111100111011001110100111100111\n"
     ]
    }
   ],
   "source": [
    "\"\"\"Trains the model and returns an array with predictions\n",
    "\"\"\"\n",
    "scaler = StandardScaler()\n",
    "def make_predictions():\n",
    "    Xtest = songs_to_test[[\"acousticness\",\"danceability\",\"duration\",\"energy\",\"instrumentalness\",\"key\",\"liveness\",\"loudness\",\"mode\",\"speechiness\",\"tempo\",\"time_signature\",\"valence\"]];\n",
    "    scaler.fit(X)\n",
    "    Xtrain = scaler.transform(X)\n",
    "    Xtest = scaler.transform(Xtest)\n",
    "    Xtrain = rfe.fit_transform(X,y)\n",
    "    Xtest = rfe.transform(Xtest)\n",
    "    classifier = KNeighborsClassifier(n_neighbors=15);\n",
    "    classifier.fit(Xtrain, y);\n",
    "    ypred = classifier.predict(Xtest);\n",
    "    result = ypred;\n",
    "    result2 = ''.join(str(i) for i in result)\n",
    "    return(result2)"
   ]
  }
 ],
 "metadata": {
  "kernelspec": {
   "display_name": "Python 3",
   "language": "python",
   "name": "python3"
  },
  "language_info": {
   "codemirror_mode": {
    "name": "ipython",
    "version": 3
   },
   "file_extension": ".py",
   "mimetype": "text/x-python",
   "name": "python",
   "nbconvert_exporter": "python",
   "pygments_lexer": "ipython3",
   "version": "3.7.6"
  }
 },
 "nbformat": 4,
 "nbformat_minor": 2
}
